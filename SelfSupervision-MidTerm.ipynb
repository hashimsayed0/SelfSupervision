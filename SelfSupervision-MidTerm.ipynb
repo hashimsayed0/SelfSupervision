{
 "cells": [
  {
   "cell_type": "code",
   "execution_count": 1,
   "metadata": {
    "executionInfo": {
     "elapsed": 2960,
     "status": "ok",
     "timestamp": 1605689381252,
     "user": {
      "displayName": "Alexander Dimitrienko",
      "photoUrl": "",
      "userId": "07582037467622387890"
     },
     "user_tz": -180
    },
    "id": "i2WkWgBL4CUB"
   },
   "outputs": [],
   "source": [
    "import numpy as np\n",
    "import os\n",
    "import random\n",
    "from matplotlib import pyplot as plt\n",
    "import tensorflow as tf\n",
    "from tensorflow.keras import losses, layers, models, metrics, Model\n",
    "from tensorflow.keras import optimizers\n",
    "from tensorflow.keras import regularizers\n",
    "from tensorflow.keras.callbacks import LearningRateScheduler\n",
    "from tensorflow.keras.preprocessing.image import ImageDataGenerator\n",
    "from sklearn import svm, metrics\n",
    "import PIL, PIL.ImageOps, PIL.ImageEnhance, PIL.ImageDraw\n",
    "import torch\n",
    "from PIL import Image\n",
    "from tensorflow.keras.applications.resnet50 import ResNet50, preprocess_input"
   ]
  },
  {
   "cell_type": "code",
   "execution_count": 2,
   "metadata": {},
   "outputs": [],
   "source": [
    "# gpus = tf.config.experimental.list_physical_devices('GPU')\n",
    "# for gpu in gpus:\n",
    "#     tf.config.experimental.set_memory_growth(gpu, False)"
   ]
  },
  {
   "cell_type": "code",
   "execution_count": 3,
   "metadata": {
    "executionInfo": {
     "elapsed": 2558,
     "status": "ok",
     "timestamp": 1605689381253,
     "user": {
      "displayName": "Alexander Dimitrienko",
      "photoUrl": "",
      "userId": "07582037467622387890"
     },
     "user_tz": -180
    },
    "id": "ncVLyOSa4CUF"
   },
   "outputs": [],
   "source": [
    "def unpickle(file):\n",
    "    import pickle\n",
    "    with open(file, 'rb') as fo:\n",
    "        dict = pickle.load(fo, encoding='bytes')\n",
    "    return dict"
   ]
  },
  {
   "cell_type": "code",
   "execution_count": 4,
   "metadata": {
    "executionInfo": {
     "elapsed": 5452,
     "status": "ok",
     "timestamp": 1605689384733,
     "user": {
      "displayName": "Alexander Dimitrienko",
      "photoUrl": "",
      "userId": "07582037467622387890"
     },
     "user_tz": -180
    },
    "id": "hUGBTkHz4CUJ"
   },
   "outputs": [],
   "source": [
    "files = []\n",
    "for i in range(6):\n",
    "    name =  ''\n",
    "    if i == 5:\n",
    "        name = 'cifar-10-batches-py/test_batch'\n",
    "    else:\n",
    "        name = 'cifar-10-batches-py/data_batch_' + str(i + 1)\n",
    "    files.append(unpickle(name))"
   ]
  },
  {
   "cell_type": "code",
   "execution_count": 5,
   "metadata": {
    "executionInfo": {
     "elapsed": 5116,
     "status": "ok",
     "timestamp": 1605689384734,
     "user": {
      "displayName": "Alexander Dimitrienko",
      "photoUrl": "",
      "userId": "07582037467622387890"
     },
     "user_tz": -180
    },
    "id": "kEB_4w7t4CUM"
   },
   "outputs": [],
   "source": [
    "rotations_num = 4\n",
    "augment_num = 10\n",
    "\n",
    "saved_name = 'selfsupervised'\n",
    "cnn_name = 'mycnn'\n",
    "\n",
    "selfsupervised_epochs = 80\n",
    "selfsupervised_batch_size = 128\n",
    "supervised_epochs = 50\n",
    "supervised_batch_size = 128\n",
    "supervised_trainval_ratio = 1. / 6 #1/6 is implied in CIFAR-10\n",
    "\n",
    "feature_layer_trained = 'conv2_block3_out'\n",
    "feature_layer = 'conv2_block3_out'\n",
    "first_resnet_layer = 'conv2_block1_out'\n",
    "second_resnet_layer = 'conv2_block2_out'\n",
    "feature_layer_cnn = 'out_layer'"
   ]
  },
  {
   "cell_type": "code",
   "execution_count": 6,
   "metadata": {
    "executionInfo": {
     "elapsed": 5203,
     "status": "ok",
     "timestamp": 1605689385208,
     "user": {
      "displayName": "Alexander Dimitrienko",
      "photoUrl": "",
      "userId": "07582037467622387890"
     },
     "user_tz": -180
    },
    "id": "PpYC2nYp4CUP"
   },
   "outputs": [],
   "source": [
    "combined_data = np.zeros((60000 * rotations_num, 32, 32, 3), dtype = np.float32)\n",
    "combined_labels = np.zeros((60000 * rotations_num, rotations_num), dtype = np.float32)"
   ]
  },
  {
   "cell_type": "code",
   "execution_count": 7,
   "metadata": {
    "executionInfo": {
     "elapsed": 4779,
     "status": "ok",
     "timestamp": 1605689385208,
     "user": {
      "displayName": "Alexander Dimitrienko",
      "photoUrl": "",
      "userId": "07582037467622387890"
     },
     "user_tz": -180
    },
    "id": "76MQkXH-YTkq"
   },
   "outputs": [],
   "source": [
    "true_labels = np.zeros((60000 * rotations_num, 10), dtype = np.float32)"
   ]
  },
  {
   "cell_type": "code",
   "execution_count": null,
   "metadata": {
    "executionInfo": {
     "elapsed": 589508,
     "status": "ok",
     "timestamp": 1605689970454,
     "user": {
      "displayName": "Alexander Dimitrienko",
      "photoUrl": "",
      "userId": "07582037467622387890"
     },
     "user_tz": -180
    },
    "id": "qDJWyucW4CUT"
   },
   "outputs": [],
   "source": [
    "for i in range(len(files)):\n",
    "    data_len = files[i][b\"data\"].shape[0]\n",
    "    \n",
    "    for j in range(data_len):\n",
    "        row = files[i][b\"data\"][j]\n",
    "        true_labels[rotations_num * (data_len * i + j)][files[i][b\"labels\"][j]] = 1.\n",
    "        \n",
    "        for k in range(files[i][b\"data\"].shape[1]):\n",
    "            combined_data[rotations_num * (data_len * i + j)][(k & 1023) >> 5][k & 31][k >> 10] = row[k]\n",
    "        combined_labels[rotations_num * (data_len * i + j)][0] = 1.\n",
    "        \n",
    "        for t in range(1, rotations_num):\n",
    "            true_labels[rotations_num * (data_len * i + j) + t][files[i][b\"labels\"][j]] = 1.\n",
    "            combined_data[rotations_num * (data_len * i + j) + t] = np.rot90(combined_data[rotations_num * (data_len * i + j)], t)\n",
    "            combined_labels[rotations_num * (data_len * i + j) + t][t] = 1."
   ]
  },
  {
   "cell_type": "code",
   "execution_count": null,
   "metadata": {
    "colab": {
     "base_uri": "https://localhost:8080/",
     "height": 266
    },
    "executionInfo": {
     "elapsed": 589036,
     "status": "ok",
     "timestamp": 1605689970458,
     "user": {
      "displayName": "Alexander Dimitrienko",
      "photoUrl": "",
      "userId": "07582037467622387890"
     },
     "user_tz": -180
    },
    "id": "5alMJ4a_4CUV",
    "outputId": "58c46fee-16c9-4b80-98a9-04f0d66459c2",
    "scrolled": false
   },
   "outputs": [],
   "source": [
    "r = random.randint(0, 60000)\n",
    "\n",
    "for i in range(rotations_num):\n",
    "    plt.imshow(combined_data[r * rotations_num + i].astype(int))\n",
    "    plt.show()\n",
    "    print(combined_labels[r * rotations_num + i])\n",
    "    print(true_labels[r * rotations_num + i])"
   ]
  },
  {
   "cell_type": "code",
   "execution_count": null,
   "metadata": {},
   "outputs": [],
   "source": [
    "#combined_data = preprocess_input(combined_data)"
   ]
  },
  {
   "cell_type": "code",
   "execution_count": null,
   "metadata": {
    "id": "qHtoMw2t4CUb"
   },
   "outputs": [],
   "source": [
    "def plot_training(**kwargs):\n",
    "    plt.figure(figsize = (10, 10))\n",
    "    \n",
    "    for k, v in kwargs.items():\n",
    "        if k != 'name' and k != 'filename':\n",
    "            plt.plot(v, label=k)\n",
    "            \n",
    "    plt.grid(True)\n",
    "    if 'name' in kwargs:\n",
    "        plt.title(kwargs['name'])\n",
    "    plt.xlabel('Epoch')\n",
    "    plt.ylabel('Accuracy')\n",
    "    plt.ylim([0, 1])\n",
    "    plt.legend(loc='lower right')\n",
    "    if 'filename' in kwargs:\n",
    "        plt.savefig(kwargs['filename'])"
   ]
  },
  {
   "cell_type": "code",
   "execution_count": null,
   "metadata": {
    "id": "kPX0I6P74CUd"
   },
   "outputs": [],
   "source": [
    "def get_feat_model():\n",
    "    inputs = tf.keras.Input((32, 32, 3))\n",
    "    x = layers.Conv2D(32, (3, 3), activation='relu', kernel_initializer='he_uniform', padding='same')(inputs)\n",
    "    x = layers.BatchNormalization()(x)\n",
    "    x = layers.Conv2D(32, (3, 3), activation='relu', kernel_initializer='he_uniform', padding='same')(x)\n",
    "    x = layers.BatchNormalization()(x)\n",
    "    x = layers.MaxPooling2D((2, 2))(x)\n",
    "    x = layers.Dropout(0.2)(x)\n",
    "    x = layers.Conv2D(64, (3, 3), activation='relu', kernel_initializer='he_uniform', padding='same')(x)\n",
    "    x = layers.BatchNormalization()(x)\n",
    "    x = layers.Conv2D(64, (3, 3), activation='relu', kernel_initializer='he_uniform', padding='same')(x)\n",
    "    x = layers.BatchNormalization()(x)\n",
    "    x = layers.MaxPooling2D((2, 2))(x)\n",
    "    x = layers.Dropout(0.3)(x)\n",
    "    x = layers.Conv2D(128, (3, 3), activation='relu', kernel_initializer='he_uniform', padding='same')(x)\n",
    "    x = layers.BatchNormalization()(x)\n",
    "    x = layers.Conv2D(128, (3, 3), activation='relu', kernel_initializer='he_uniform', padding='same')(x)\n",
    "    x = layers.BatchNormalization()(x)\n",
    "    x = layers.MaxPooling2D((2, 2))(x)\n",
    "    x = layers.Dropout(0.4, name='out_layer')(x)\n",
    "    \n",
    "    x = layers.Flatten()(x)\n",
    "    x = layers.Dropout(0.5)(x)\n",
    "    x = layers.Dense(200, kernel_regularizer=regularizers.l2(l = 0.0001), kernel_initializer='he_uniform')(x)\n",
    "    x = layers.Activation('relu')(x)\n",
    "    x = layers.BatchNormalization()(x)\n",
    "    x = layers.Dropout(0.5)(x)\n",
    "    x = layers.Dense(200, kernel_regularizer=regularizers.l2(l = 0.0001), kernel_initializer='he_uniform')(x)\n",
    "    x = layers.Activation('relu')(x)\n",
    "    x = layers.BatchNormalization()(x)\n",
    "    x = layers.Dropout(0.3)(x)\n",
    "    x = layers.Dense(rotations_num, kernel_regularizer=regularizers.l2(l = 0.0001), activation = 'softmax')(x)\n",
    "    \n",
    "    return tf.keras.Model(inputs = inputs, outputs = x)"
   ]
  },
  {
   "cell_type": "code",
   "execution_count": null,
   "metadata": {},
   "outputs": [],
   "source": [
    "def get_conv_model():\n",
    "    base = ResNet50(include_top=False, weights=None, input_shape=(32, 32, 3))\n",
    "    l = base.get_layer(feature_layer_trained).output\n",
    "    l = layers.Flatten()(l)\n",
    "    l = layers.BatchNormalization()(l)\n",
    "    l = layers.Dropout(0.5)(l)\n",
    "    l = layers.Dense(200, kernel_regularizer=regularizers.l1_l2(l1 = 0.0001, l2 = 0.0005), kernel_initializer='he_uniform')(l)\n",
    "    l = layers.BatchNormalization()(l)\n",
    "    l = layers.Activation('relu')(l)\n",
    "    l = layers.Dropout(0.5)(l)\n",
    "    l = layers.Dense(200, kernel_regularizer=regularizers.l1_l2(l1 = 0.0001, l2 = 0.0005), kernel_initializer='he_uniform')(l)\n",
    "    l = layers.BatchNormalization()(l)\n",
    "    l = layers.Activation('relu')(l)\n",
    "    l = layers.Dropout(0.5)(l)\n",
    "    l = layers.Dense(rotations_num, kernel_regularizer=regularizers.l1_l2(l1 = 0.00005, l2 = 0.0001), activation = 'softmax')(l)\n",
    "    \n",
    "    return tf.keras.Model(inputs = base.input, outputs = l)"
   ]
  },
  {
   "cell_type": "code",
   "execution_count": null,
   "metadata": {},
   "outputs": [],
   "source": [
    "def lr_schedule(epoch, lr):\n",
    "    if epoch == 50:\n",
    "        return lr / 5.\n",
    "    if epoch == 40:\n",
    "        return lr / 5.\n",
    "    if epoch == 30:\n",
    "        return lr / 5.\n",
    "    \n",
    "    return lr"
   ]
  },
  {
   "cell_type": "code",
   "execution_count": null,
   "metadata": {},
   "outputs": [],
   "source": [
    "def lr_schedule_conv(epoch, lr):\n",
    "    print(lr)\n",
    "    if epoch == 80:\n",
    "        return lr / 5.\n",
    "    if epoch == 60:\n",
    "        return lr / 5.\n",
    "    if epoch == 40:\n",
    "        return lr / 5.\n",
    "    if epoch == 20:\n",
    "        return lr / 5.\n",
    "    \n",
    "    return lr"
   ]
  },
  {
   "cell_type": "code",
   "execution_count": null,
   "metadata": {},
   "outputs": [],
   "source": [
    "def lr_schedule_cls(epoch, lr):\n",
    "    print(lr)\n",
    "    if epoch == 40:\n",
    "        return lr / 5.\n",
    "    if epoch == 30:\n",
    "        return lr / 5.\n",
    "    if epoch == 20:\n",
    "        return lr / 5.\n",
    "    if epoch == 10:\n",
    "        return lr / 5.\n",
    "    \n",
    "    return lr"
   ]
  },
  {
   "cell_type": "code",
   "execution_count": null,
   "metadata": {},
   "outputs": [],
   "source": [
    "def lr_schedule_linear(epoch, lr):\n",
    "    print(lr)\n",
    "    if epoch < supervised_epochs // 2:\n",
    "        return lr + (0.1 - 0.00001) / supervised_epochs * 2.\n",
    "    else:\n",
    "        return max(lr - (0.1 - 0.00001) / supervised_epochs * 2., 0.00001)\n",
    "    \n",
    "    return lr"
   ]
  },
  {
   "cell_type": "code",
   "execution_count": null,
   "metadata": {
    "id": "rqvEEjX74CUg"
   },
   "outputs": [],
   "source": [
    "def train_feat():\n",
    "    model = get_conv_model()\n",
    "    model.summary()\n",
    "    model.compile(optimizer = optimizers.RMSprop(), loss = 'categorical_crossentropy', metrics=['accuracy'])\n",
    "    log = model.fit(combined_data, combined_labels, \n",
    "                    epochs = selfsupervised_epochs, batch_size = selfsupervised_batch_size, \n",
    "                    shuffle = True, callbacks = [LearningRateScheduler(lr_schedule)])\n",
    "    model.save(saved_name)\n",
    "    return log"
   ]
  },
  {
   "cell_type": "code",
   "execution_count": null,
   "metadata": {
    "id": "n5CGkQvR4CUj",
    "outputId": "120adc8d-7351-475e-aa82-25474b2b1295",
    "scrolled": true
   },
   "outputs": [],
   "source": [
    "log = train_feat()"
   ]
  },
  {
   "cell_type": "code",
   "execution_count": null,
   "metadata": {
    "id": "3_4GXBHL4CUn"
   },
   "outputs": [],
   "source": [
    "def get_cls_model(name = saved_name, use_features = True, percent = 100):\n",
    "    if use_features:\n",
    "        model = tf.keras.models.load_model(name)\n",
    "    else:\n",
    "        model = tf.keras.models.load_model('emptyResNet')\n",
    "        \n",
    "    if percent >= 50:\n",
    "        l = model.get_layer(feature_layer).output\n",
    "    else:\n",
    "        l = model.get_layer(first_resnet_layer).output\n",
    "        \n",
    "    #model = tf.keras.models.load_model(cnn_name)\n",
    "    #l = model.get_layer(feature_layer_cnn).output\n",
    "    \n",
    "    l = layers.Flatten()(l)\n",
    "    l = layers.BatchNormalization()(l)\n",
    "    l = layers.Dropout(0.5)(l)\n",
    "    l = layers.Dense(200, kernel_regularizer=regularizers.l1_l2(l1 = 0.0001, l2 = 0.0005), kernel_initializer='he_uniform')(l)\n",
    "    l = layers.BatchNormalization()(l)\n",
    "    l = layers.Activation('relu')(l)\n",
    "    l = layers.Dropout(0.5)(l)\n",
    "    l = layers.Dense(200, kernel_regularizer=regularizers.l1_l2(l1 = 0.0001, l2 = 0.0005), kernel_initializer='he_uniform')(l)\n",
    "    l = layers.BatchNormalization()(l)\n",
    "    l = layers.Activation('relu')(l)\n",
    "    l = layers.Dropout(0.5)(l)\n",
    "    l = layers.Dense(10, kernel_regularizer=regularizers.l1_l2(l1 = 0.0001, l2 = 0.0005), activation = 'softmax')(l)\n",
    "    return tf.keras.Model(inputs = model.input, outputs = l)"
   ]
  },
  {
   "cell_type": "code",
   "execution_count": null,
   "metadata": {
    "id": "JwBUGYKx4CUq"
   },
   "outputs": [],
   "source": [
    "def train_cls(train_features = True):\n",
    "    cls_model = get_cls_model()\n",
    "    cls_model.summary()\n",
    "    \n",
    "    if not train_features:\n",
    "        for l in cls_model.layers[:-5]:\n",
    "            l.trainable = False\n",
    "            \n",
    "    cls_model.compile(optimizer = optimizers.RMSprop(), loss = 'categorical_crossentropy', metrics=['accuracy'])\n",
    "    cls_log = cls_model.fit(combined_data[:int(60000 * (1.0 - supervised_trainval_ratio))], \n",
    "                            true_labels[:int(60000 * (1.0 - supervised_trainval_ratio))], \n",
    "                            epochs = supervised_epochs, batch_size = supervised_batch_size, shuffle = True,\n",
    "                            callbacks = [LearningRateScheduler(lr_schedule)],\n",
    "                            validation_data = (combined_data[int(60000 * (1.0 - supervised_trainval_ratio)):60000], \n",
    "                                               true_labels[int(60000 * (1.0 - supervised_trainval_ratio)):60000]))\n",
    "    return cls_log"
   ]
  },
  {
   "cell_type": "code",
   "execution_count": null,
   "metadata": {
    "id": "EDLC9hEw4CUs",
    "scrolled": false
   },
   "outputs": [],
   "source": [
    "cls_train_features = train_cls(True)"
   ]
  },
  {
   "cell_type": "code",
   "execution_count": null,
   "metadata": {
    "id": "xwysIrWV4CUv",
    "scrolled": false
   },
   "outputs": [],
   "source": [
    "cls_no_train_features = train_cls(False)"
   ]
  },
  {
   "cell_type": "code",
   "execution_count": null,
   "metadata": {
    "id": "UdOvJsoy4CUx"
   },
   "outputs": [],
   "source": [
    "plot_training(name = 'Train accuracy',\n",
    "              fine_tuning_accuracy = cls_train_features.history['accuracy'],\n",
    "              feature_extracting_accuracy = cls_no_train_features.history['accuracy'])"
   ]
  },
  {
   "cell_type": "code",
   "execution_count": null,
   "metadata": {
    "id": "p3YdkFcH4CU0"
   },
   "outputs": [],
   "source": [
    "plot_training(name = 'Validation accuracy',\n",
    "              fine_tuning_accuracy = cls_train_features.history['val_accuracy'],\n",
    "              feature_extracting_accuracy = cls_no_train_features.history['val_accuracy'])"
   ]
  },
  {
   "cell_type": "code",
   "execution_count": null,
   "metadata": {},
   "outputs": [],
   "source": []
  },
  {
   "cell_type": "code",
   "execution_count": null,
   "metadata": {},
   "outputs": [],
   "source": []
  },
  {
   "cell_type": "code",
   "execution_count": null,
   "metadata": {},
   "outputs": [],
   "source": []
  },
  {
   "cell_type": "code",
   "execution_count": null,
   "metadata": {},
   "outputs": [],
   "source": []
  }
 ],
 "metadata": {
  "accelerator": "GPU",
  "colab": {
   "collapsed_sections": [],
   "name": "SelfSupervision.ipynb",
   "provenance": []
  },
  "kernelspec": {
   "display_name": "Python 3",
   "language": "python",
   "name": "python3"
  },
  "language_info": {
   "codemirror_mode": {
    "name": "ipython",
    "version": 3
   },
   "file_extension": ".py",
   "mimetype": "text/x-python",
   "name": "python",
   "nbconvert_exporter": "python",
   "pygments_lexer": "ipython3",
   "version": "3.6.12"
  }
 },
 "nbformat": 4,
 "nbformat_minor": 1
}
