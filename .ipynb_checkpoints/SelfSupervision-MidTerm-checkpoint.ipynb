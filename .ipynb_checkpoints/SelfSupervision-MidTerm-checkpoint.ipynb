{
 "cells": [
  {
   "cell_type": "code",
   "execution_count": 1,
   "metadata": {
    "executionInfo": {
     "elapsed": 2960,
     "status": "ok",
     "timestamp": 1605689381252,
     "user": {
      "displayName": "Alexander Dimitrienko",
      "photoUrl": "",
      "userId": "07582037467622387890"
     },
     "user_tz": -180
    },
    "id": "i2WkWgBL4CUB"
   },
   "outputs": [],
   "source": [
    "import numpy as np\n",
    "import os\n",
    "import random\n",
    "from matplotlib import pyplot as plt\n",
    "import tensorflow as tf\n",
    "from tensorflow.keras import losses, layers, models, metrics, Model\n",
    "from tensorflow.keras import optimizers\n",
    "from tensorflow.keras import regularizers\n",
    "from tensorflow.keras.callbacks import LearningRateScheduler\n",
    "from tensorflow.keras.preprocessing.image import ImageDataGenerator\n",
    "from sklearn import svm, metrics\n",
    "import PIL, PIL.ImageOps, PIL.ImageEnhance, PIL.ImageDraw\n",
    "import torch\n",
    "from PIL import Image\n",
    "from tensorflow.keras.applications.resnet50 import ResNet50, preprocess_input"
   ]
  },
  {
   "cell_type": "code",
   "execution_count": 2,
   "metadata": {},
   "outputs": [],
   "source": [
    "gpus = tf.config.experimental.list_physical_devices('GPU')\n",
    "for gpu in gpus:\n",
    "    tf.config.experimental.set_memory_growth(gpu, False)"
   ]
  },
  {
   "cell_type": "code",
   "execution_count": 3,
   "metadata": {
    "executionInfo": {
     "elapsed": 2558,
     "status": "ok",
     "timestamp": 1605689381253,
     "user": {
      "displayName": "Alexander Dimitrienko",
      "photoUrl": "",
      "userId": "07582037467622387890"
     },
     "user_tz": -180
    },
    "id": "ncVLyOSa4CUF"
   },
   "outputs": [],
   "source": [
    "def unpickle(file):\n",
    "    import pickle\n",
    "    with open(file, 'rb') as fo:\n",
    "        dict = pickle.load(fo, encoding='bytes')\n",
    "    return dict"
   ]
  },
  {
   "cell_type": "code",
   "execution_count": 4,
   "metadata": {
    "executionInfo": {
     "elapsed": 5452,
     "status": "ok",
     "timestamp": 1605689384733,
     "user": {
      "displayName": "Alexander Dimitrienko",
      "photoUrl": "",
      "userId": "07582037467622387890"
     },
     "user_tz": -180
    },
    "id": "hUGBTkHz4CUJ"
   },
   "outputs": [],
   "source": [
    "files = []\n",
    "for i in range(6):\n",
    "    name =  ''\n",
    "    if i == 5:\n",
    "        name = 'cifar-10-batches-py/test_batch'\n",
    "    else:\n",
    "        name = 'cifar-10-batches-py/data_batch_' + str(i + 1)\n",
    "    files.append(unpickle(name))"
   ]
  },
  {
   "cell_type": "code",
   "execution_count": 5,
   "metadata": {
    "executionInfo": {
     "elapsed": 5116,
     "status": "ok",
     "timestamp": 1605689384734,
     "user": {
      "displayName": "Alexander Dimitrienko",
      "photoUrl": "",
      "userId": "07582037467622387890"
     },
     "user_tz": -180
    },
    "id": "kEB_4w7t4CUM"
   },
   "outputs": [],
   "source": [
    "rotations_num = 4\n",
    "augment_num = 10\n",
    "\n",
    "saved_name = 'selfsupervised'\n",
    "cnn_name = 'mycnn'\n",
    "\n",
    "selfsupervised_epochs = 80\n",
    "selfsupervised_batch_size = 128\n",
    "supervised_epochs = 50\n",
    "supervised_batch_size = 128\n",
    "supervised_trainval_ratio = 1. / 6 #1/6 is implied in CIFAR-10\n",
    "\n",
    "feature_layer_trained = 'conv2_block3_out'\n",
    "feature_layer = 'conv2_block3_out'\n",
    "first_resnet_layer = 'conv2_block1_out'\n",
    "second_resnet_layer = 'conv2_block2_out'\n",
    "feature_layer_cnn = 'out_layer'"
   ]
  },
  {
   "cell_type": "code",
   "execution_count": 6,
   "metadata": {
    "executionInfo": {
     "elapsed": 5203,
     "status": "ok",
     "timestamp": 1605689385208,
     "user": {
      "displayName": "Alexander Dimitrienko",
      "photoUrl": "",
      "userId": "07582037467622387890"
     },
     "user_tz": -180
    },
    "id": "PpYC2nYp4CUP"
   },
   "outputs": [],
   "source": [
    "combined_data = np.zeros((60000 * rotations_num, 32, 32, 3), dtype = np.float32)\n",
    "combined_labels = np.zeros((60000 * rotations_num, rotations_num), dtype = np.float32)"
   ]
  },
  {
   "cell_type": "code",
   "execution_count": 7,
   "metadata": {
    "executionInfo": {
     "elapsed": 4779,
     "status": "ok",
     "timestamp": 1605689385208,
     "user": {
      "displayName": "Alexander Dimitrienko",
      "photoUrl": "",
      "userId": "07582037467622387890"
     },
     "user_tz": -180
    },
    "id": "76MQkXH-YTkq"
   },
   "outputs": [],
   "source": [
    "true_labels = np.zeros((60000 * rotations_num, 10), dtype = np.float32)"
   ]
  },
  {
   "cell_type": "code",
   "execution_count": 8,
   "metadata": {
    "executionInfo": {
     "elapsed": 589508,
     "status": "ok",
     "timestamp": 1605689970454,
     "user": {
      "displayName": "Alexander Dimitrienko",
      "photoUrl": "",
      "userId": "07582037467622387890"
     },
     "user_tz": -180
    },
    "id": "qDJWyucW4CUT"
   },
   "outputs": [],
   "source": [
    "for i in range(len(files)):\n",
    "    data_len = files[i][b\"data\"].shape[0]\n",
    "    \n",
    "    for j in range(data_len):\n",
    "        row = files[i][b\"data\"][j]\n",
    "        true_labels[rotations_num * (data_len * i + j)][files[i][b\"labels\"][j]] = 1.\n",
    "        \n",
    "        for k in range(files[i][b\"data\"].shape[1]):\n",
    "            combined_data[rotations_num * (data_len * i + j)][(k & 1023) >> 5][k & 31][k >> 10] = row[k]\n",
    "        combined_labels[rotations_num * (data_len * i + j)][0] = 1.\n",
    "        \n",
    "        for t in range(1, rotations_num):\n",
    "            true_labels[rotations_num * (data_len * i + j) + t][files[i][b\"labels\"][j]] = 1.\n",
    "            combined_data[rotations_num * (data_len * i + j) + t] = np.rot90(combined_data[rotations_num * (data_len * i + j)], t)\n",
    "            combined_labels[rotations_num * (data_len * i + j) + t][t] = 1."
   ]
  },
  {
   "cell_type": "code",
   "execution_count": 9,
   "metadata": {
    "colab": {
     "base_uri": "https://localhost:8080/",
     "height": 266
    },
    "executionInfo": {
     "elapsed": 589036,
     "status": "ok",
     "timestamp": 1605689970458,
     "user": {
      "displayName": "Alexander Dimitrienko",
      "photoUrl": "",
      "userId": "07582037467622387890"
     },
     "user_tz": -180
    },
    "id": "5alMJ4a_4CUV",
    "outputId": "58c46fee-16c9-4b80-98a9-04f0d66459c2",
    "scrolled": false
   },
   "outputs": [
    {
     "data": {
      "image/png": "[encoded data removed]",
      "text/plain": [
       "<Figure size 432x288 with 1 Axes>"
      ]
     },
     "metadata": {
      "needs_background": "light"
     },
     "output_type": "display_data"
    },
    {
     "name": "stdout",
     "output_type": "stream",
     "text": [
      "[1. 0. 0. 0.]\n",
      "[0. 0. 0. 0. 0. 0. 0. 0. 1. 0.]\n"
     ]
    },
    {
     "data": {
      "image/png": "[encoded data removed]",
      "text/plain": [
       "<Figure size 432x288 with 1 Axes>"
      ]
     },
     "metadata": {
      "needs_background": "light"
     },
     "output_type": "display_data"
    },
    {
     "name": "stdout",
     "output_type": "stream",
     "text": [
      "[0. 1. 0. 0.]\n",
      "[0. 0. 0. 0. 0. 0. 0. 0. 1. 0.]\n"
     ]
    },
    {
     "data": {
      "image/png": "[encoded data removed]",
      "text/plain": [
       "<Figure size 432x288 with 1 Axes>"
      ]
     },
     "metadata": {
      "needs_background": "light"
     },
     "output_type": "display_data"
    },
    {
     "name": "stdout",
     "output_type": "stream",
     "text": [
      "[0. 0. 1. 0.]\n",
      "[0. 0. 0. 0. 0. 0. 0. 0. 1. 0.]\n"
     ]
    },
    {
     "data": {
      "image/png": "[encoded data removed]",
      "text/plain": [
       "<Figure size 432x288 with 1 Axes>"
      ]
     },
     "metadata": {
      "needs_background": "light"
     },
     "output_type": "display_data"
    },
    {
     "name": "stdout",
     "output_type": "stream",
     "text": [
      "[0. 0. 0. 1.]\n",
      "[0. 0. 0. 0. 0. 0. 0. 0. 1. 0.]\n"
     ]
    }
   ],
   "source": [
    "r = random.randint(0, 60000)\n",
    "\n",
    "for i in range(rotations_num):\n",
    "    plt.imshow(combined_data[r * rotations_num + i].astype(int))\n",
    "    plt.show()\n",
    "    print(combined_labels[r * rotations_num + i])\n",
    "    print(true_labels[r * rotations_num + i])"
   ]
  },
  {
   "cell_type": "code",
   "execution_count": 10,
   "metadata": {},
   "outputs": [],
   "source": [
    "#combined_data = preprocess_input(combined_data)"
   ]
  },
  {
   "cell_type": "code",
   "execution_count": 11,
   "metadata": {
    "id": "qHtoMw2t4CUb"
   },
   "outputs": [],
   "source": [
    "def plot_training(**kwargs):\n",
    "    plt.figure(figsize = (10, 10))\n",
    "    \n",
    "    for k, v in kwargs.items():\n",
    "        if k != 'name' and k != 'filename':\n",
    "            plt.plot(v, label=k)\n",
    "            \n",
    "    plt.grid(True)\n",
    "    if 'name' in kwargs:\n",
    "        plt.title(kwargs['name'])\n",
    "    plt.xlabel('Epoch')\n",
    "    plt.ylabel('Accuracy')\n",
    "    plt.ylim([0, 1])\n",
    "    plt.legend(loc='lower right')\n",
    "    if 'filename' in kwargs:\n",
    "        plt.savefig(kwargs['filename'])"
   ]
  },
  {
   "cell_type": "code",
   "execution_count": 12,
   "metadata": {
    "id": "kPX0I6P74CUd"
   },
   "outputs": [],
   "source": [
    "def get_feat_model():\n",
    "    inputs = tf.keras.Input((32, 32, 3))\n",
    "    x = layers.Conv2D(32, (3, 3), activation='relu', kernel_initializer='he_uniform', padding='same')(inputs)\n",
    "    x = layers.BatchNormalization()(x)\n",
    "    x = layers.Conv2D(32, (3, 3), activation='relu', kernel_initializer='he_uniform', padding='same')(x)\n",
    "    x = layers.BatchNormalization()(x)\n",
    "    x = layers.MaxPooling2D((2, 2))(x)\n",
    "    x = layers.Dropout(0.2)(x)\n",
    "    x = layers.Conv2D(64, (3, 3), activation='relu', kernel_initializer='he_uniform', padding='same')(x)\n",
    "    x = layers.BatchNormalization()(x)\n",
    "    x = layers.Conv2D(64, (3, 3), activation='relu', kernel_initializer='he_uniform', padding='same')(x)\n",
    "    x = layers.BatchNormalization()(x)\n",
    "    x = layers.MaxPooling2D((2, 2))(x)\n",
    "    x = layers.Dropout(0.3)(x)\n",
    "    x = layers.Conv2D(128, (3, 3), activation='relu', kernel_initializer='he_uniform', padding='same')(x)\n",
    "    x = layers.BatchNormalization()(x)\n",
    "    x = layers.Conv2D(128, (3, 3), activation='relu', kernel_initializer='he_uniform', padding='same')(x)\n",
    "    x = layers.BatchNormalization()(x)\n",
    "    x = layers.MaxPooling2D((2, 2))(x)\n",
    "    x = layers.Dropout(0.4, name='out_layer')(x)\n",
    "    \n",
    "    x = layers.Flatten()(x)\n",
    "    x = layers.Dropout(0.5)(x)\n",
    "    x = layers.Dense(200, kernel_regularizer=regularizers.l2(l = 0.0001), kernel_initializer='he_uniform')(x)\n",
    "    x = layers.Activation('relu')(x)\n",
    "    x = layers.BatchNormalization()(x)\n",
    "    x = layers.Dropout(0.5)(x)\n",
    "    x = layers.Dense(200, kernel_regularizer=regularizers.l2(l = 0.0001), kernel_initializer='he_uniform')(x)\n",
    "    x = layers.Activation('relu')(x)\n",
    "    x = layers.BatchNormalization()(x)\n",
    "    x = layers.Dropout(0.3)(x)\n",
    "    x = layers.Dense(rotations_num, kernel_regularizer=regularizers.l2(l = 0.0001), activation = 'softmax')(x)\n",
    "    \n",
    "    return tf.keras.Model(inputs = inputs, outputs = x)"
   ]
  },
  {
   "cell_type": "code",
   "execution_count": 13,
   "metadata": {},
   "outputs": [],
   "source": [
    "def get_conv_model():\n",
    "    base = ResNet50(include_top=False, weights=None, input_shape=(32, 32, 3))\n",
    "    l = base.get_layer(feature_layer_trained).output\n",
    "    l = layers.Flatten()(l)\n",
    "    l = layers.BatchNormalization()(l)\n",
    "    l = layers.Dropout(0.5)(l)\n",
    "    l = layers.Dense(200, kernel_regularizer=regularizers.l1_l2(l1 = 0.0001, l2 = 0.0005), kernel_initializer='he_uniform')(l)\n",
    "    l = layers.BatchNormalization()(l)\n",
    "    l = layers.Activation('relu')(l)\n",
    "    l = layers.Dropout(0.5)(l)\n",
    "    l = layers.Dense(200, kernel_regularizer=regularizers.l1_l2(l1 = 0.0001, l2 = 0.0005), kernel_initializer='he_uniform')(l)\n",
    "    l = layers.BatchNormalization()(l)\n",
    "    l = layers.Activation('relu')(l)\n",
    "    l = layers.Dropout(0.5)(l)\n",
    "    l = layers.Dense(rotations_num, kernel_regularizer=regularizers.l1_l2(l1 = 0.00005, l2 = 0.0001), activation = 'softmax')(l)\n",
    "    \n",
    "    return tf.keras.Model(inputs = base.input, outputs = l)"
   ]
  },
  {
   "cell_type": "code",
   "execution_count": 14,
   "metadata": {},
   "outputs": [],
   "source": [
    "def lr_schedule(epoch, lr):\n",
    "    if epoch == 50:\n",
    "        return lr / 5.\n",
    "    if epoch == 40:\n",
    "        return lr / 5.\n",
    "    if epoch == 30:\n",
    "        return lr / 5.\n",
    "    \n",
    "    return lr"
   ]
  },
  {
   "cell_type": "code",
   "execution_count": 15,
   "metadata": {},
   "outputs": [],
   "source": [
    "def lr_schedule_conv(epoch, lr):\n",
    "    print(lr)\n",
    "    if epoch == 80:\n",
    "        return lr / 5.\n",
    "    if epoch == 60:\n",
    "        return lr / 5.\n",
    "    if epoch == 40:\n",
    "        return lr / 5.\n",
    "    if epoch == 20:\n",
    "        return lr / 5.\n",
    "    \n",
    "    return lr"
   ]
  },
  {
   "cell_type": "code",
   "execution_count": 16,
   "metadata": {},
   "outputs": [],
   "source": [
    "def lr_schedule_cls(epoch, lr):\n",
    "    print(lr)\n",
    "    if epoch == 40:\n",
    "        return lr / 5.\n",
    "    if epoch == 30:\n",
    "        return lr / 5.\n",
    "    if epoch == 20:\n",
    "        return lr / 5.\n",
    "    if epoch == 10:\n",
    "        return lr / 5.\n",
    "    \n",
    "    return lr"
   ]
  },
  {
   "cell_type": "code",
   "execution_count": 17,
   "metadata": {},
   "outputs": [],
   "source": [
    "def lr_schedule_linear(epoch, lr):\n",
    "    print(lr)\n",
    "    if epoch < supervised_epochs // 2:\n",
    "        return lr + (0.1 - 0.00001) / supervised_epochs * 2.\n",
    "    else:\n",
    "        return max(lr - (0.1 - 0.00001) / supervised_epochs * 2., 0.00001)\n",
    "    \n",
    "    return lr"
   ]
  },
  {
   "cell_type": "code",
   "execution_count": 18,
   "metadata": {
    "id": "rqvEEjX74CUg"
   },
   "outputs": [],
   "source": [
    "def train_feat():\n",
    "    model = get_conv_model()\n",
    "    model.summary()\n",
    "    model.compile(optimizer = optimizers.RMSprop(), loss = 'categorical_crossentropy', metrics=['accuracy'])\n",
    "    log = model.fit(combined_data, combined_labels, \n",
    "                    epochs = selfsupervised_epochs, batch_size = selfsupervised_batch_size, \n",
    "                    shuffle = True, callbacks = [LearningRateScheduler(lr_schedule)])\n",
    "    model.save(saved_name)\n",
    "    return log"
   ]
  },
  {
   "cell_type": "code",
   "execution_count": null,
   "metadata": {
    "id": "n5CGkQvR4CUj",
    "outputId": "120adc8d-7351-475e-aa82-25474b2b1295",
    "scrolled": true
   },
   "outputs": [],
   "source": [
    "log = train_feat()"
   ]
  },
  {
   "cell_type": "code",
   "execution_count": null,
   "metadata": {
    "id": "3_4GXBHL4CUn"
   },
   "outputs": [],
   "source": [
    "def get_cls_model(name = saved_name, use_features = True, percent = 100):\n",
    "    if use_features:\n",
    "        model = tf.keras.models.load_model(name)\n",
    "    else:\n",
    "        model = tf.keras.models.load_model('emptyResNet')\n",
    "        \n",
    "    if percent >= 50:\n",
    "        l = model.get_layer(feature_layer).output\n",
    "    else:\n",
    "        l = model.get_layer(first_resnet_layer).output\n",
    "        \n",
    "    #model = tf.keras.models.load_model(cnn_name)\n",
    "    #l = model.get_layer(feature_layer_cnn).output\n",
    "    \n",
    "    l = layers.Flatten()(l)\n",
    "    l = layers.BatchNormalization()(l)\n",
    "    l = layers.Dropout(0.5)(l)\n",
    "    l = layers.Dense(200, kernel_regularizer=regularizers.l1_l2(l1 = 0.0001, l2 = 0.0005), kernel_initializer='he_uniform')(l)\n",
    "    l = layers.BatchNormalization()(l)\n",
    "    l = layers.Activation('relu')(l)\n",
    "    l = layers.Dropout(0.5)(l)\n",
    "    l = layers.Dense(200, kernel_regularizer=regularizers.l1_l2(l1 = 0.0001, l2 = 0.0005), kernel_initializer='he_uniform')(l)\n",
    "    l = layers.BatchNormalization()(l)\n",
    "    l = layers.Activation('relu')(l)\n",
    "    l = layers.Dropout(0.5)(l)\n",
    "    l = layers.Dense(10, kernel_regularizer=regularizers.l1_l2(l1 = 0.0001, l2 = 0.0005), activation = 'softmax')(l)\n",
    "    return tf.keras.Model(inputs = model.input, outputs = l)"
   ]
  },
  {
   "cell_type": "code",
   "execution_count": null,
   "metadata": {
    "id": "JwBUGYKx4CUq"
   },
   "outputs": [],
   "source": [
    "def train_cls(train_features = True):\n",
    "    cls_model = get_cls_model()\n",
    "    cls_model.summary()\n",
    "    \n",
    "    if not train_features:\n",
    "        for l in cls_model.layers[:-5]:\n",
    "            l.trainable = False\n",
    "            \n",
    "    cls_model.compile(optimizer = optimizers.RMSprop(), loss = 'categorical_crossentropy', metrics=['accuracy'])\n",
    "    cls_log = cls_model.fit(combined_data[:int(60000 * (1.0 - supervised_trainval_ratio))], \n",
    "                            true_labels[:int(60000 * (1.0 - supervised_trainval_ratio))], \n",
    "                            epochs = supervised_epochs, batch_size = supervised_batch_size, shuffle = True,\n",
    "                            callbacks = [LearningRateScheduler(lr_schedule)],\n",
    "                            validation_data = (combined_data[int(60000 * (1.0 - supervised_trainval_ratio)):60000], \n",
    "                                               true_labels[int(60000 * (1.0 - supervised_trainval_ratio)):60000]))\n",
    "    return cls_log"
   ]
  },
  {
   "cell_type": "code",
   "execution_count": null,
   "metadata": {
    "id": "EDLC9hEw4CUs",
    "scrolled": false
   },
   "outputs": [],
   "source": [
    "cls_train_features = train_cls(True)"
   ]
  },
  {
   "cell_type": "code",
   "execution_count": null,
   "metadata": {
    "id": "xwysIrWV4CUv",
    "scrolled": false
   },
   "outputs": [],
   "source": [
    "cls_no_train_features = train_cls(False)"
   ]
  },
  {
   "cell_type": "code",
   "execution_count": null,
   "metadata": {
    "id": "UdOvJsoy4CUx"
   },
   "outputs": [],
   "source": [
    "plot_training(name = 'Train accuracy',\n",
    "              fine_tuning_accuracy = cls_train_features.history['accuracy'],\n",
    "              feature_extracting_accuracy = cls_no_train_features.history['accuracy'])"
   ]
  },
  {
   "cell_type": "code",
   "execution_count": null,
   "metadata": {
    "id": "p3YdkFcH4CU0"
   },
   "outputs": [],
   "source": [
    "plot_training(name = 'Validation accuracy',\n",
    "              fine_tuning_accuracy = cls_train_features.history['val_accuracy'],\n",
    "              feature_extracting_accuracy = cls_no_train_features.history['val_accuracy'])"
   ]
  },
  {
   "cell_type": "code",
   "execution_count": null,
   "metadata": {
    "id": "Snwmob4x4CU5"
   },
   "outputs": [],
   "source": [
    "labelsPercent = [1, 2, 3, 5, 10, 25, 50, 100]"
   ]
  },
  {
   "cell_type": "code",
   "execution_count": null,
   "metadata": {
    "executionInfo": {
     "elapsed": 572768,
     "status": "ok",
     "timestamp": 1605689970459,
     "user": {
      "displayName": "Alexander Dimitrienko",
      "photoUrl": "",
      "userId": "07582037467622387890"
     },
     "user_tz": -180
    },
    "id": "J5JOcjUp4CU7"
   },
   "outputs": [],
   "source": [
    "def shuffle_examples():\n",
    "    #Перемешивание датасета для выбора размеченных экземпляров, т.к. выбираются первые n элементов\n",
    "    for i in range(len(examplesForClass)):\n",
    "        random.shuffle(examplesForClass[i])"
   ]
  },
  {
   "cell_type": "code",
   "execution_count": null,
   "metadata": {
    "executionInfo": {
     "elapsed": 570785,
     "status": "ok",
     "timestamp": 1605689970459,
     "user": {
      "displayName": "Alexander Dimitrienko",
      "photoUrl": "",
      "userId": "07582037467622387890"
     },
     "user_tz": -180
    },
    "id": "sJIwuRIQ4CU9"
   },
   "outputs": [],
   "source": [
    "def generate_labeled_unlabeled(examples, percent, shuffle = True):\n",
    "    #Равномерное по классам распределение на размеченную и неразмеченную часть с заданным процентом\n",
    "    if shuffle:\n",
    "        shuffle_examples()\n",
    "    labeled = []\n",
    "    tmp = []\n",
    "    unlabeled = []\n",
    "    \n",
    "    #labeled_nums = [rotations_num * i for i in range(5000 - percent * 50, 5000)]\n",
    "    labeled_nums = [i for i in range((5000 - percent * 50) * rotations_num, 5000 * rotations_num)]\n",
    "    unlabeled_nums = [i for i in range((5000 - percent * 50) * rotations_num)]\n",
    "\n",
    "    for i in range(len(examples)):\n",
    "        for j in labeled_nums:\n",
    "            labeled += [examples[i][j]] #50 == 5000 / 100\n",
    "        for j in unlabeled_nums:\n",
    "            unlabeled += [examples[i][j]]\n",
    "        \n",
    "    return labeled, unlabeled\n",
    "labeled, unlabeled = generate_labeled_unlabeled(examplesForClass, 0, False)\n",
    "len(unlabeled)"
   ]
  },
  {
   "cell_type": "code",
   "execution_count": null,
   "metadata": {},
   "outputs": [],
   "source": [
    "def generate_augmented_labeled_unlabeled(examples, percent, shuffle = True):\n",
    "    #Равномерное по классам распределение на размеченную и неразмеченную часть с заданным процентом\n",
    "    if shuffle:\n",
    "        shuffle_examples()\n",
    "    labeled = []\n",
    "    tmp = []\n",
    "    unlabeled = []\n",
    "    \n",
    "    #labeled_nums = [rotations_num * i for i in range(5000 - percent * 50, 5000)]\n",
    "    labeled_nums = [i for i in range((5000 - percent * 50) * augment_num, 5000 * augment_num)]\n",
    "    unlabeled_nums = [i for i in range((5000 - percent * 50) * augment_num)]\n",
    "\n",
    "    for i in range(len(examples)):\n",
    "        for j in labeled_nums:\n",
    "            labeled += [examples[i][j]] #50 == 5000 / 100\n",
    "        for j in unlabeled_nums:\n",
    "            unlabeled += [examples[i][j]]\n",
    "        \n",
    "    return labeled, unlabeled"
   ]
  },
  {
   "cell_type": "code",
   "execution_count": null,
   "metadata": {
    "id": "zVKZmOo64CVE"
   },
   "outputs": [],
   "source": [
    "def self_supervised_train(unlabeled, percent, use_datagen = False, **kwargs):\n",
    "    if percent >= 100:\n",
    "        return None\n",
    "    \n",
    "    model = get_conv_model()\n",
    "    model.summary()\n",
    "    model.compile(optimizer = optimizers.Adam(), loss = 'categorical_crossentropy', metrics=['accuracy'])\n",
    "    \n",
    "    if use_datagen:\n",
    "        log = model.fit(kwargs['datagen'].flow(np.asarray([combined_data[i] for i in unlabeled]), \n",
    "                    np.asarray([combined_labels[i] for i in unlabeled]),\n",
    "                    batch_size = selfsupervised_batch_size),\n",
    "                    epochs = selfsupervised_epochs, \n",
    "                    steps_per_epoch = len(unlabeled) // selfsupervised_batch_size,\n",
    "                    shuffle = True,\n",
    "                    #callbacks = [LearningRateScheduler(lr_schedule_conv)],\n",
    "                            validation_data = (np.asarray(combined_data[50000 * rotations_num:]), \n",
    "                                               np.asarray(combined_labels[50000 * rotations_num:])))\n",
    "    else:    \n",
    "        log = model.fit(np.asarray([combined_data[i] for i in unlabeled]) / 256., \n",
    "                    np.asarray([combined_labels[i] for i in unlabeled]), \n",
    "                    epochs = selfsupervised_epochs, \n",
    "                    batch_size = selfsupervised_batch_size, \n",
    "                    shuffle = True,\n",
    "                    #callbacks = [LearningRateScheduler(lr_schedule_conv)],\n",
    "                            validation_data = (np.asarray([combined_data[(50000 + i) * rotations_num] for i in range(10000)])  / 256., \n",
    "                                               np.asarray([combined_labels[(50000 + i) * rotations_num] for i in range(10000)])))\n",
    "    model.save(saved_name + \"_\" + str(percent))\n",
    "    \n",
    "    return log"
   ]
  },
  {
   "cell_type": "code",
   "execution_count": null,
   "metadata": {
    "id": "KKgxJlIT4CVG"
   },
   "outputs": [],
   "source": [
    "def fine_tune(labeled, percent, train_features = True, use_features = True, use_datagen = False, **kwargs):\n",
    "    #cls_model = get_cls_model(saved_name + \"_\" + str(percent))\n",
    "    cls_model = get_cls_model(saved_name, use_features, percent)\n",
    "    \n",
    "    if not train_features:\n",
    "        flag = False\n",
    "        for l in cls_model.layers:\n",
    "            l.trainable = flag\n",
    "            if l.name == feature_layer or l.name == feature_layer_trained:\n",
    "                flag = True\n",
    "                \n",
    "    cls_model.summary()\n",
    "            \n",
    "    cls_model.compile(optimizer = optimizers.Adam(lr=0.001), loss = 'categorical_crossentropy', metrics=['accuracy'])\n",
    "    if use_datagen:\n",
    "        print('Datagen is used...')\n",
    "        cls_log = cls_model.fit(kwargs['datagen'].flow(np.asarray([combined_data[i] for i in labeled]), \n",
    "                            np.asarray([true_labels[i] for i in labeled]),\n",
    "                            batch_size = supervised_batch_size), \n",
    "                            epochs = supervised_epochs,\n",
    "                            steps_per_epoch = len(labeled) // supervised_batch_size, \n",
    "                            shuffle = True,\n",
    "                            validation_data = (np.asarray([combined_data[(50000 + i) * rotations_num] for i in range(10000)]) / 256., \n",
    "                                               np.asarray([true_labels[(50000 + i) * rotations_num] for i in range(10000)])))\n",
    "    else:\n",
    "        cls_log = cls_model.fit(np.asarray([augmented_data[i] for i in labeled]) / 256., \n",
    "                            np.asarray([augmented_labels[i] for i in labeled]), \n",
    "                            epochs = supervised_epochs, batch_size = supervised_batch_size, \n",
    "                            shuffle = True,\n",
    "                            validation_data = (np.asarray([combined_data[(50000 + i) * rotations_num] for i in range(10000)])  / 256., \n",
    "                                               np.asarray([true_labels[(50000 + i) * rotations_num] for i in range(10000)])))\n",
    "    \n",
    "    return cls_log"
   ]
  },
  {
   "cell_type": "code",
   "execution_count": null,
   "metadata": {
    "id": "5S_EOaHJ4CVJ"
   },
   "outputs": [],
   "source": [
    "def get_empty_model():\n",
    "    #Непредобученная модель на случай использования всей разметки\n",
    "    model = get_conv_model()\n",
    "    model.compile(optimizer = optimizers.RMSprop(), loss = 'categorical_crossentropy', metrics=['accuracy'])\n",
    "    model.save(saved_name + \"_100\")\n",
    "    \n",
    "    return get_cls_model(saved_name + \"_100\")"
   ]
  },
  {
   "cell_type": "code",
   "execution_count": null,
   "metadata": {},
   "outputs": [],
   "source": [
    "def my_preprocess(data):\n",
    "    output = data / 256.0\n",
    "    return output"
   ]
  },
  {
   "cell_type": "code",
   "execution_count": null,
   "metadata": {},
   "outputs": [],
   "source": [
    "aug_datagen = ImageDataGenerator(\n",
    "    rotation_range=20,\n",
    "    width_shift_range=4,\n",
    "    height_shift_range=4,\n",
    "    shear_range=0.2,\n",
    "    zoom_range=0.2,\n",
    "    horizontal_flip=True,\n",
    "    fill_mode='nearest',\n",
    "    preprocessing_function=my_preprocess)\n",
    "aug_datagen.fit(combined_data)"
   ]
  },
  {
   "cell_type": "code",
   "execution_count": null,
   "metadata": {},
   "outputs": [],
   "source": [
    "print(dir(tf.image))"
   ]
  },
  {
   "cell_type": "code",
   "execution_count": null,
   "metadata": {},
   "outputs": [],
   "source": [
    "augmented_data = np.zeros((50000 * augment_num, 32, 32, 3), dtype = np.float32)\n",
    "augmented_labels = np.zeros((50000 * augment_num, 10), dtype = np.float32)"
   ]
  },
  {
   "cell_type": "code",
   "execution_count": null,
   "metadata": {},
   "outputs": [],
   "source": [
    "for i in range(50000):\n",
    "    if i % 1000 == 0:\n",
    "        print(i)\n",
    "    augmented_data[i * augment_num] = combined_data[i * rotations_num]\n",
    "    augmented_data[i * augment_num + 1] = tf.image.flip_up_down(tf.image.random_contrast(combined_data[i * rotations_num], 0.2, 0.7))\n",
    "    augmented_data[i * augment_num + 2] = tf.image.flip_left_right(tf.image.random_contrast(combined_data[i * rotations_num], 0.2, 0.7))\n",
    "    augmented_data[i * augment_num + 3] = tf.image.random_contrast(combined_data[i * rotations_num], 0.2, 0.7)\n",
    "    augmented_data[i * augment_num + 4] = tf.image.flip_left_right(combined_data[i * rotations_num])\n",
    "    augmented_data[i * augment_num + 5] = tf.image.flip_up_down(combined_data[i * rotations_num])\n",
    "    augmented_data[i * augment_num + 6] = tf.image.random_hue(combined_data[i * rotations_num], 0.3)\n",
    "    augmented_data[i * augment_num + 7] = tf.image.random_saturation(combined_data[i * rotations_num], 5, 10)\n",
    "    augmented_data[i * augment_num + 8] = tf.image.flip_left_right(tf.image.random_hue(combined_data[i * rotations_num], 0.3))\n",
    "    augmented_data[i * augment_num + 9] = tf.image.flip_left_right(tf.image.random_saturation(combined_data[i * rotations_num], 5, 10))\n",
    "    "
   ]
  },
  {
   "cell_type": "code",
   "execution_count": null,
   "metadata": {},
   "outputs": [],
   "source": [
    "for i in range(50000):\n",
    "    for j in range(augment_num):\n",
    "            augmented_labels[i * augment_num + j] = true_labels[i * rotations_num]"
   ]
  },
  {
   "cell_type": "code",
   "execution_count": null,
   "metadata": {
    "scrolled": false
   },
   "outputs": [],
   "source": [
    "r = random.randint(0, 50000)\n",
    "for i in range(augment_num):\n",
    "    plt.imshow(augmented_data[r * augment_num + i].astype(int))\n",
    "    plt.show()\n",
    "    print(augmented_labels[r * augment_num + i])"
   ]
  },
  {
   "cell_type": "code",
   "execution_count": null,
   "metadata": {},
   "outputs": [],
   "source": [
    "augmentedExamplesForClass = []\n",
    "for i in range(10):\n",
    "    augmentedExamplesForClass.append([j for j in range(50000 * augment_num) if np.where(augmented_labels[j] == 1)[0][0] == i])"
   ]
  },
  {
   "cell_type": "code",
   "execution_count": null,
   "metadata": {
    "id": "wLjLXjvQ4CVM"
   },
   "outputs": [],
   "source": [
    "examplesForClass = []\n",
    "for i in range(10):\n",
    "    examplesForClass.append([j for j in range(50000 * rotations_num) if np.where(true_labels[j] == 1)[0][0] == i])"
   ]
  },
  {
   "cell_type": "code",
   "execution_count": null,
   "metadata": {},
   "outputs": [],
   "source": [
    "for j in range(5 * rotations_num):\n",
    "    if(np.where(true_labels[j]==1)[0][0]==6):\n",
    "        print(j)\n",
    "# #     print(np.where(true_labels[j] == 1)[0][0] == 0)"
   ]
  },
  {
   "cell_type": "code",
   "execution_count": null,
   "metadata": {
    "scrolled": true
   },
   "outputs": [],
   "source": [
    "labeled, unlabeled = generate_labeled_unlabeled(examplesForClass, 0, False)\n",
    "self_supervised_train(unlabeled, 0)"
   ]
  },
  {
   "cell_type": "code",
   "execution_count": null,
   "metadata": {},
   "outputs": [],
   "source": [
    "logs = []\n",
    "cls_logs = []"
   ]
  },
  {
   "cell_type": "code",
   "execution_count": null,
   "metadata": {
    "colab": {
     "base_uri": "https://localhost:8080/",
     "height": 989
    },
    "executionInfo": {
     "elapsed": 29958,
     "status": "error",
     "timestamp": 1605100230880,
     "user": {
      "displayName": "Alexander Dimitrienko",
      "photoUrl": "",
      "userId": "07582037467622387890"
     },
     "user_tz": -180
    },
    "id": "TRtVD-9I4CVP",
    "outputId": "3a012661-c3f8-48ff-a1d3-db504c9aef8b",
    "scrolled": true
   },
   "outputs": [],
   "source": [
    "for p in labelsPercent:\n",
    "    labeled, unlabeled = generate_labeled_unlabeled(examplesForClass, p, False)\n",
    "    #if not os.path.isfile(saved_name + \"_\" + str(p)):\n",
    "    \n",
    "    if not os.path.isfile(saved_name):\n",
    "        logs.append(self_supervised_train(unlabeled, p))\n",
    "    cls_logs.append(fine_tune(labeled, p, True))        "
   ]
  },
  {
   "cell_type": "code",
   "execution_count": null,
   "metadata": {},
   "outputs": [],
   "source": [
    "#Self-supervised with augmentation"
   ]
  },
  {
   "cell_type": "code",
   "execution_count": null,
   "metadata": {
    "scrolled": true
   },
   "outputs": [],
   "source": [
    "for p in labelsPercent:\n",
    "    labeled, unlabeled = generate_augmented_labeled_unlabeled(augmentedExamplesForClass, p, False)\n",
    "    print(len(labeled), len(unlabeled))\n",
    "    cls_logs.append(fine_tune(labeled, p, True, True))        \n",
    "#[0.5505, 0.6021, 0.6382, 0.6691, 0.7135, 0.7671, 0.8060, 0.8448]"
   ]
  },
  {
   "cell_type": "code",
   "execution_count": null,
   "metadata": {
    "scrolled": true
   },
   "outputs": [],
   "source": [
    "for i in range(len(cls_logs)):\n",
    "    print(cls_logs[i].history)"
   ]
  },
  {
   "cell_type": "code",
   "execution_count": null,
   "metadata": {},
   "outputs": [],
   "source": [
    "feat_log = self_supervised_train([i for i in range(50000 * rotations_num)], 0)"
   ]
  },
  {
   "cell_type": "code",
   "execution_count": null,
   "metadata": {},
   "outputs": [],
   "source": [
    "model = tf.keras.models.load_model('selfsupervised_50_backup2')\n",
    "model.summary()\n",
    "l = model.get_layer('conv_feat').output\n",
    "feat = tf.keras.Model(inputs = model.input, outputs = l)\n",
    "y_pred = []"
   ]
  },
  {
   "cell_type": "code",
   "execution_count": null,
   "metadata": {},
   "outputs": [],
   "source": [
    "features_test = feat.predict(np.asarray([combined_data[(50000 + i) * rotations_num] for i in range(10000)]))"
   ]
  },
  {
   "cell_type": "code",
   "execution_count": null,
   "metadata": {
    "scrolled": true
   },
   "outputs": [],
   "source": [
    "for p in labelsPercent:\n",
    "    labeled, unlabeled = generate_labeled_unlabeled(examplesForClass, p, False)\n",
    "    features = feat.predict(np.asarray([combined_data[i] for i in labeled]))\n",
    "    clf = svm.SVC(C = 100., kernel = 'rbf')\n",
    "    clf.fit(features, np.asarray([np.argmax(true_labels[i]) for i in labeled]))\n",
    "    y_pred.append(clf.predict(features_test))\n",
    "    print(metrics.accuracy_score(np.asarray([np.argmax(true_labels[(50000 + i) * rotations_num]) for i in range(10000)]), y_pred[-1]))"
   ]
  },
  {
   "cell_type": "code",
   "execution_count": null,
   "metadata": {
    "id": "ZqgUVhQ_4CVR"
   },
   "outputs": [],
   "source": [
    "plot_dict = {}\n",
    "\n",
    "for i, p in enumerate(labelsPercent):\n",
    "    plot_dict[\"labels_\" + str(p)] = cls_logs[i].history['val_accuracy']"
   ]
  },
  {
   "cell_type": "code",
   "execution_count": null,
   "metadata": {
    "id": "VOEtN07P4CVT",
    "outputId": "aac9cc73-b8ed-4c62-d0db-688a5a5582fa",
    "scrolled": true
   },
   "outputs": [],
   "source": [
    "plot_training(name = 'Validation accuracy',\n",
    "              filename = 'self_part_labels',\n",
    "              **plot_dict)"
   ]
  },
  {
   "cell_type": "code",
   "execution_count": null,
   "metadata": {},
   "outputs": [],
   "source": [
    "selfsupervised_acc = {}"
   ]
  },
  {
   "cell_type": "code",
   "execution_count": null,
   "metadata": {},
   "outputs": [],
   "source": [
    "for i, p in enumerate(labelsPercent):\n",
    "    selfsupervised_acc[p] = cls_logs[i].history['val_accuracy'][-1]\n",
    "print(selfsupervised_acc)"
   ]
  },
  {
   "cell_type": "code",
   "execution_count": null,
   "metadata": {
    "id": "lYBivMPo4CVX"
   },
   "outputs": [],
   "source": [
    "emptyResNet = ResNet50(include_top=False, weights=None, input_shape=(32, 32, 3))\n",
    "emptyResNet.summary()\n",
    "emptyResNet.compile(optimizer = optimizers.Adam(), loss = 'categorical_crossentropy', metrics=['accuracy'])\n",
    "emptyResNet.save('emptyResNet')"
   ]
  },
  {
   "cell_type": "code",
   "execution_count": null,
   "metadata": {},
   "outputs": [],
   "source": [
    "mycnn = get_feat_model()\n",
    "mycnn.summary()\n",
    "mycnn.compile(optimizer = optimizers.Adam(), loss = 'categorical_crossentropy', metrics=['accuracy'])\n",
    "mycnn.save(cnn_name)"
   ]
  },
  {
   "cell_type": "code",
   "execution_count": null,
   "metadata": {},
   "outputs": [],
   "source": [
    "logs_supervised = []\n",
    "cls_logs_supervised = []"
   ]
  },
  {
   "cell_type": "code",
   "execution_count": null,
   "metadata": {},
   "outputs": [],
   "source": [
    "for p in labelsPercent:\n",
    "    labeled, unlabeled = generate_labeled_unlabeled(examplesForClass, p, False)\n",
    "    cls_logs_supervised.append(fine_tune(labeled, p, True, False))"
   ]
  },
  {
   "cell_type": "code",
   "execution_count": null,
   "metadata": {},
   "outputs": [],
   "source": [
    "#Supervised with data augmentation\n",
    "datagen = ImageDataGenerator(\n",
    "    rotation_range=20,\n",
    "    width_shift_range=4,\n",
    "    height_shift_range=4, \n",
    "    brightness_range=[0.5, 1.0],\n",
    "    preprocessing_function=my_preprocess)\n",
    "datagen.fit(combined_data)"
   ]
  },
  {
   "cell_type": "code",
   "execution_count": null,
   "metadata": {
    "scrolled": true
   },
   "outputs": [],
   "source": [
    "for p in labelsPercent:\n",
    "    labeled, unlabeled = generate_augmented_labeled_unlabeled(augmentedExamplesForClass, p, False)\n",
    "    print(len(labeled))\n",
    "    print(len(unlabeled))\n",
    "    cls_logs_supervised.append(fine_tune(labeled, p, True, False))"
   ]
  },
  {
   "cell_type": "code",
   "execution_count": null,
   "metadata": {},
   "outputs": [],
   "source": [
    "supervised_acc = {}"
   ]
  },
  {
   "cell_type": "code",
   "execution_count": null,
   "metadata": {},
   "outputs": [],
   "source": [
    "for i, p in enumerate(labelsPercent):\n",
    "    if i < len(cls_logs_supervised):\n",
    "        supervised_acc[p] = cls_logs_supervised[i].history['val_accuracy'][-1]\n",
    "        \n",
    "print(supervised_acc)\n",
    "#{100: 0.8076, 50: 0.7702, 25: 0.7134, 10: 0.6265, 5: 0.5556, 1: 0.3892, 3: 0.4811, 2: 0.4377}\n",
    "#{1: 0.4231, 2: 0.5026, 3: 0.5475, 5: 0.6002, 10: 0.6714, 25: 0.7411, 50: 0.7959, 100: 0.8420}"
   ]
  },
  {
   "cell_type": "code",
   "execution_count": null,
   "metadata": {
    "scrolled": true
   },
   "outputs": [],
   "source": [
    "super_v = []\n",
    "self_v = []\n",
    "\n",
    "for p in labelsPercent:\n",
    "    super_v.append(supervised_acc[p])\n",
    "    self_v.append(selfsupervised_acc[p])"
   ]
  },
  {
   "cell_type": "code",
   "execution_count": null,
   "metadata": {},
   "outputs": [],
   "source": [
    "samplesPerClass = []\n",
    "for p in labelsPercent:\n",
    "    samplesPerClass.append(5000 * p // 100)\n",
    "print(samplesPerClass)"
   ]
  },
  {
   "cell_type": "code",
   "execution_count": null,
   "metadata": {},
   "outputs": [],
   "source": [
    "from matplotlib.ticker import ScalarFormatter\n",
    "\n",
    "fig, ax = plt.subplots(figsize=(10, 10))\n",
    "ax.plot(samplesPerClass, super_v, 'o-', label='Обучение с учителем')\n",
    "ax.plot(samplesPerClass, self_v, 'o-', label='Самообучение')\n",
    "ax.grid(True)\n",
    "plt.title('Сравнение точности', size = 24)\n",
    "plt.xlabel('Количество экземпляров на класс (из 5000)', fontsize = 18)\n",
    "plt.ylabel('Точность', fontsize = 18)\n",
    "plt.xscale(\"log\")\n",
    "ax.axis([min(samplesPerClass), max(samplesPerClass), 0., 1.])\n",
    "ax.set_xticks(samplesPerClass)\n",
    "ax.tick_params(labelsize= 18)\n",
    "ax.xaxis.set_major_formatter(ScalarFormatter())\n",
    "ax.legend(loc='lower right', fontsize = 18)\n",
    "plt.savefig('acc_compare_3')"
   ]
  },
  {
   "cell_type": "code",
   "execution_count": null,
   "metadata": {
    "id": "h5MUHwA-4CVZ",
    "outputId": "8d13c1d8-486f-430e-d66f-b24a516f826a",
    "scrolled": true
   },
   "outputs": [],
   "source": [
    "for i, p in enumerate(labelsPercent):\n",
    "    plot_dict = {}\n",
    "    \n",
    "    plot_dict[\"labels_\" + str(p) + \"_selfsupervised\"] = cls_logs[i].history['val_acc']\n",
    "    plot_dict[\"labels_\" + str(p) + \"_supervised\"] = cls_logs_supervised[i].history['val_acc']\n",
    "    \n",
    "    plot_training(name = 'Validation accuracy for ' + str(p) + \"% of labels\",\n",
    "                  filename = 'self_and_default_' + str(p) + \" labels\",\n",
    "                  **plot_dict)"
   ]
  },
  {
   "cell_type": "code",
   "execution_count": null,
   "metadata": {
    "executionInfo": {
     "elapsed": 1562,
     "status": "ok",
     "timestamp": 1605689972038,
     "user": {
      "displayName": "Alexander Dimitrienko",
      "photoUrl": "",
      "userId": "07582037467622387890"
     },
     "user_tz": -180
    },
    "id": "izmuo9qeQiRy"
   },
   "outputs": [],
   "source": [
    "unsupervised_threshold = 0.95\n",
    "unsupervised_loss_coef = 1.0\n",
    "unlabeled_epoch_start = 5\n",
    "\n",
    "semisupervised_epochs = 50\n",
    "semisupervised_batch_size = 128"
   ]
  },
  {
   "cell_type": "code",
   "execution_count": null,
   "metadata": {
    "executionInfo": {
     "elapsed": 1551,
     "status": "ok",
     "timestamp": 1605689972038,
     "user": {
      "displayName": "Alexander Dimitrienko",
      "photoUrl": "",
      "userId": "07582037467622387890"
     },
     "user_tz": -180
    },
    "id": "EEWfx01uejSP"
   },
   "outputs": [],
   "source": [
    "labelsPercent = [50, 25, 10, 5, 3, 2, 1] #100"
   ]
  },
  {
   "cell_type": "code",
   "execution_count": null,
   "metadata": {
    "executionInfo": {
     "elapsed": 1542,
     "status": "ok",
     "timestamp": 1605689972038,
     "user": {
      "displayName": "Alexander Dimitrienko",
      "photoUrl": "",
      "userId": "07582037467622387890"
     },
     "user_tz": -180
    },
    "id": "Lr4woi469A1z"
   },
   "outputs": [],
   "source": [
    "class Augmentator():\n",
    "    def shearX(self, img):\n",
    "        return img.transform(img.size, PIL.Image.AFFINE, (1, (random.choice([-1, 1])) * self.M * 0.3, 0, 0, 1, 0))\n",
    "\n",
    "    def shearY(self, img):\n",
    "        return img.transform(img.size, PIL.Image.AFFINE, (1, 0, 0, (random.choice([-1, 1])) * self.M * 0.3, 1, 0))\n",
    "\n",
    "    def translateX(self, img):\n",
    "        return img.transform(img.size, PIL.Image.AFFINE, (1, 0, (random.choice([-1, 1])) * self.M * 0.3 * img.size[0], 0, 1, 0))\n",
    "\n",
    "    def translateY(self, img):\n",
    "        return img.transform(img.size, PIL.Image.AFFINE, (1, 0, 0, 0, 1, (random.choice([-1, 1])) * self.M * 0.3 * img.size[0]))\n",
    "\n",
    "    def rotate(self, img):\n",
    "        return img.rotate((random.choice([-1, 1])) * self.M * 30.0)\n",
    "\n",
    "    def autoContrast(self, img):\n",
    "        return PIL.ImageOps.autocontrast(img)\n",
    "\n",
    "    def invert(self, img):\n",
    "        return PIL.ImageOps.invert(img)\n",
    "\n",
    "    def equalize(self, img):\n",
    "        return PIL.ImageOps.equalize(img)\n",
    "\n",
    "    def solarize(self, img):\n",
    "        return PIL.ImageOps.solarize(img, self.M * 256.0)\n",
    "\n",
    "    def posterize(self, img):\n",
    "        return PIL.ImageOps.posterize(img, int(self.M * 4.0))\n",
    "\n",
    "    def contrast(self, img):\n",
    "        return PIL.ImageEnhance.Contrast(img).enhance(self.M)\n",
    "\n",
    "    def color(self, img):\n",
    "        return PIL.ImageEnhance.Color(img).enhance(self.M)\n",
    "\n",
    "    def brightness(self, img):\n",
    "        return PIL.ImageEnhance.Brightness(img).enhance(self.M)\n",
    "\n",
    "    def sharpness(self, img):\n",
    "        return PIL.ImageEnhance.Sharpness(img).enhance(self.M)\n",
    "    \n",
    "    def __init__(self, N, M):\n",
    "        self.N = N\n",
    "        self.M = M\n",
    "        self.transformations = [self.autoContrast, self.equalize, self.rotate, self.solarize, self.color, self.posterize, self.contrast, self.brightness, self.sharpness, self.shearX, self.shearY, self.translateX, self.translateY]\n",
    "\n",
    "    def __call__(self, img):\n",
    "        chosen_transformations = random.choices(self.transformations, k = self.N)\n",
    "        for f in chosen_transformations:\n",
    "            img = f(img)\n",
    "        return img\n"
   ]
  },
  {
   "cell_type": "code",
   "execution_count": null,
   "metadata": {
    "executionInfo": {
     "elapsed": 3225,
     "status": "ok",
     "timestamp": 1605689973731,
     "user": {
      "displayName": "Alexander Dimitrienko",
      "photoUrl": "",
      "userId": "07582037467622387890"
     },
     "user_tz": -180
    },
    "id": "k4qWlhmFgJYz"
   },
   "outputs": [],
   "source": [
    "def is_called(func):\n",
    "    def newfunc(*args, **kwargs):\n",
    "        print('Called func!')\n",
    "        func(args, kwargs)\n",
    "    return newfunc"
   ]
  },
  {
   "cell_type": "code",
   "execution_count": null,
   "metadata": {
    "executionInfo": {
     "elapsed": 3217,
     "status": "ok",
     "timestamp": 1605689973732,
     "user": {
      "displayName": "Alexander Dimitrienko",
      "photoUrl": "",
      "userId": "07582037467622387890"
     },
     "user_tz": -180
    },
    "id": "fuZ9bGzlkZwe"
   },
   "outputs": [],
   "source": [
    "def custom_loss(y_true, y_pred):\n",
    "    with tf.GradientTape() as tape:\n",
    "        return tf.math.reduce_sum(tf.multiply(y_true, tf.math.log(y_pred)))"
   ]
  },
  {
   "cell_type": "code",
   "execution_count": null,
   "metadata": {
    "executionInfo": {
     "elapsed": 1156,
     "status": "ok",
     "timestamp": 1605690176788,
     "user": {
      "displayName": "Alexander Dimitrienko",
      "photoUrl": "",
      "userId": "07582037467622387890"
     },
     "user_tz": -180
    },
    "id": "g3WLz90N4CVb"
   },
   "outputs": [],
   "source": [
    "#loss_tracker = metrics.CategoricalCrossentropy(name=\"loss\")\n",
    "acc_metric = tf.keras.metrics.Accuracy(name=\"acc\")\n",
    "\n",
    "#loss_tracker_supervised = metrics.CategoricalCrossentropy(name=\"loss_sup\")\n",
    "acc_metric_supervised = tf.keras.metrics.Accuracy(name=\"acc_sup\")\n",
    "\n",
    "#loss_tracker_unsupervised = metrics.CategoricalCrossentropy(name=\"loss_unsup\")\n",
    "acc_metric_unsupervised = tf.keras.metrics.Accuracy(name=\"acc_unsup\")\n",
    "\n",
    "\n",
    "class CustomModel(Model):\n",
    "    @is_called\n",
    "    def train_step(self, data):\n",
    "        X, Y = data\n",
    "        print(X)\n",
    "        X = tf.unstack(X)\n",
    "\n",
    "        print('Going to tape')\n",
    "\n",
    "        x_supervised = np.asarray([combined_data[i] for i in X if i in labeled])\n",
    "        x_unsupervised = np.asarray([combined_data[i] for i in X if i in unlabeled])\n",
    "        x_augmented = x_unsupervised\n",
    "        y_true_supervised = np.asarray([true_labels[i] for i in X if i in labeled])\n",
    "\n",
    "        #Supervised part\n",
    "        with tf.GradientTape() as tape:\n",
    "            tape.watch(x_supervised)\n",
    "\n",
    "            y_pred_supervised = self(x_supervised, training=True)  \n",
    "            loss_supervised = custom_loss(y_true_supervised, y_pred_supervised)\n",
    "\n",
    "            #Unsupervised part\n",
    "            tape.watch(x_augmented)\n",
    "            y_pred = self(x_unsupervised, training=False)\n",
    "\n",
    "            #y_pred_np = tf.make_ndarray(y_pred.op.get_attr('value'))\n",
    "            y_pred_unsupervised = self(x_augmented, training=True) #if max(y_pred_np[i]) > unsupervised_threshold)\n",
    "            \n",
    "            loss_unsupervised = custom_loss(y_pred, y_pred_unsupervised)\n",
    "\n",
    "            #Loss\n",
    "            #loss, grads = custom_loss(self, y_true_supervised, y_pred, y_pred_supervised, y_pred_unsupervised)\n",
    "            loss = loss_supervised + loss_unsupervised * unsupervised_loss_coef\n",
    "            grads = tape.gradient(loss, self.trainable_variables)\n",
    "\n",
    "            #Weights\n",
    "            self.optimizer.apply_gradients(zip(grads, self.trainable_variables))\n",
    "\n",
    "        #Metrics\n",
    "        #loss_tracker_supervised.update_state(loss_supervised)\n",
    "        acc_metric_supervised.update_state(y_true_supervised, y_pred_supervised)\n",
    "\n",
    "        #loss_tracker_unsupervised.update_state(loss_unsupervised)\n",
    "        acc_metric_unsupervised.update_state(y_pred, y_pred_unsupervised)\n",
    "\n",
    "        #loss_tracker.update_state(loss)\n",
    "        #acc_metric.update_state(np.concatenate(y_pred, y_true_supervised), np.concatenate(y_pred_unsupervised, y_pred_supervised))\n",
    "\n",
    "        return {#\"loss_supervised\": loss_tracker_supervised.result(), \n",
    "                \"acc_supervised\": acc_metric_supervised.result(), \n",
    "                #\"loss_unsupervised\": loss_tracker_unsupervised.result(), \n",
    "                \"acc_unsupervised\": acc_metric_unsupervised.result()}\n",
    "\n",
    "    @property\n",
    "    def metrics(self):\n",
    "        return [#loss_tracker, \n",
    "            acc_metric]\n",
    "\n"
   ]
  },
  {
   "cell_type": "code",
   "execution_count": null,
   "metadata": {
    "executionInfo": {
     "elapsed": 3695,
     "status": "ok",
     "timestamp": 1605689974228,
     "user": {
      "displayName": "Alexander Dimitrienko",
      "photoUrl": "",
      "userId": "07582037467622387890"
     },
     "user_tz": -180
    },
    "id": "MPlDyACEW6Q4"
   },
   "outputs": [],
   "source": [
    "augmentator = Augmentator(2, random.random())"
   ]
  },
  {
   "cell_type": "code",
   "execution_count": null,
   "metadata": {},
   "outputs": [],
   "source": [
    "pil_data = np.zeros(augmented_data.shape, dtype = np.float32)"
   ]
  },
  {
   "cell_type": "code",
   "execution_count": null,
   "metadata": {},
   "outputs": [],
   "source": [
    "for i in range(len(files)):\n",
    "    data_len = files[i][b\"data\"].shape[0]\n",
    "    \n",
    "    for j in range(data_len):\n",
    "        row = files[i][b\"data\"][j]\n",
    "        true_labels[data_len * i + j][files[i][b\"labels\"][j]] = 1.\n",
    "        \n",
    "        for k in range(files[i][b\"data\"].shape[1]):\n",
    "            rotated_data[data_len * i + j][(k & 1023) >> 5][k & 31][k >> 10] = row[k]\n",
    "            \n",
    "        rotated_data[data_len * i + j] = np.rot90(rotated_data[data_len * i + j], random.choice([0, 1, 2, 3]))"
   ]
  },
  {
   "cell_type": "code",
   "execution_count": null,
   "metadata": {
    "scrolled": true
   },
   "outputs": [],
   "source": [
    "for i in range(pil_data.shape[0]):\n",
    "    if i % 10000 == 0:\n",
    "        print(i)\n",
    "    pil_data[i] = np.array(augmentator(Image.fromarray(np.uint8(augmented_data[i // augment_num * augment_num]))))\n"
   ]
  },
  {
   "cell_type": "code",
   "execution_count": null,
   "metadata": {
    "scrolled": true
   },
   "outputs": [],
   "source": [
    "r = random.randint(0, pil_data.shape[0] // augment_num)\n",
    "for i in range(augment_num):\n",
    "    plt.imshow(augmented_data[r * augment_num + i].astype(int))\n",
    "    plt.show()\n",
    "    plt.imshow(pil_data[r * augment_num + i].astype(int))\n",
    "    plt.show()\n",
    "    print(augmented_labels[r + i])"
   ]
  },
  {
   "cell_type": "code",
   "execution_count": null,
   "metadata": {},
   "outputs": [],
   "source": [
    "#rotated_data = preprocess_input(rotated_data)\n",
    "#pil_data = preprocess_input(pil_data)"
   ]
  },
  {
   "cell_type": "code",
   "execution_count": null,
   "metadata": {
    "executionInfo": {
     "elapsed": 3226,
     "status": "ok",
     "timestamp": 1605689973730,
     "user": {
      "displayName": "Alexander Dimitrienko",
      "photoUrl": "",
      "userId": "07582037467622387890"
     },
     "user_tz": -180
    },
    "id": "WsI_XRYKb7MI"
   },
   "outputs": [],
   "source": [
    "augmentedExamplesForClass = []\n",
    "for i in range(10):\n",
    "    augmentedExamplesForClass.append([j for j in range(50000 * augment_num) if np.where(augmented_labels[j] == 1)[0][0] == i])"
   ]
  },
  {
   "cell_type": "code",
   "execution_count": null,
   "metadata": {},
   "outputs": [],
   "source": [
    "def get_basic_conv_model():\n",
    "    inputs = tf.keras.Input((32, 32, 3))\n",
    "    x = layers.Conv2D(32, (3, 3))(inputs)\n",
    "    x = layers.MaxPooling2D((2, 2))(x)\n",
    "    x = layers.Conv2D(64, (3, 3))(x)\n",
    "    x = layers.MaxPooling2D((2, 2))(x)\n",
    "    x = layers.Conv2D(64, (3, 3), name = 'conv_feat')(x)\n",
    "    \n",
    "    x = layers.Flatten()(x)\n",
    "    x = layers.Dropout(0.4)(x)\n",
    "    x = layers.Dense(256)(x)\n",
    "    x = layers.Activation('relu')(x)\n",
    "    x = layers.Dense(10, activation = 'softmax')(x)\n",
    "    \n",
    "    return CustomModel(inputs = inputs, outputs = x)"
   ]
  },
  {
   "cell_type": "code",
   "execution_count": null,
   "metadata": {
    "executionInfo": {
     "elapsed": 3680,
     "status": "ok",
     "timestamp": 1605689974229,
     "user": {
      "displayName": "Alexander Dimitrienko",
      "photoUrl": "",
      "userId": "07582037467622387890"
     },
     "user_tz": -180
    },
    "id": "lzS0LxF9biZ6"
   },
   "outputs": [],
   "source": [
    "def get_resnet_model():\n",
    "    base = tf.keras.models.load_model('emptyResNet')\n",
    "    l = base.get_layer(feature_layer).output\n",
    "    l = layers.Flatten()(l)\n",
    "    l = layers.Dropout(0.5)(l)\n",
    "    l = layers.Dense(200, kernel_regularizer=regularizers.l1_l2(l1 = 0.0001, l2 = 0.0001))(l)\n",
    "    l = layers.BatchNormalization()(l)\n",
    "    l = layers.Activation('tanh')(l)\n",
    "    l = layers.Dropout(0.5)(l)\n",
    "    l = layers.Dense(200, kernel_regularizer=regularizers.l1_l2(l1 = 0.0001, l2 = 0.0001))(l)\n",
    "    l = layers.BatchNormalization()(l)\n",
    "    l = layers.Activation('tanh')(l)\n",
    "    l = layers.Dropout(0.3)(l)\n",
    "    l = layers.Dense(10, kernel_regularizer=regularizers.l1_l2(l1 = 0.0001, l2 = 0.0001), activation = 'softmax')(l)\n",
    "\n",
    "    return tf.keras.Model(inputs = base.input, outputs = l)"
   ]
  },
  {
   "cell_type": "code",
   "execution_count": null,
   "metadata": {},
   "outputs": [],
   "source": [
    "import time"
   ]
  },
  {
   "cell_type": "code",
   "execution_count": null,
   "metadata": {},
   "outputs": [],
   "source": [
    "def generate_labeled_unlabeled_semi(examples, percent, shuffle = True):\n",
    "    #Равномерное по классам распределение на размеченную и неразмеченную часть с заданным процентом\n",
    "    if shuffle:\n",
    "        shuffle_examples()\n",
    "    labeled = []\n",
    "    tmp = []\n",
    "    unlabeled = []\n",
    "    \n",
    "    labeled_nums = [i for i in range(5000 - percent * 50, 5000)]\n",
    "    unlabeled_nums = [i for i in range(5000 - percent * 50)]\n",
    "\n",
    "    for i in range(len(examples)):\n",
    "        for j in labeled_nums:\n",
    "            labeled += [examples[i][j]] #50 == 5000 / 100\n",
    "        for j in unlabeled_nums:\n",
    "            unlabeled += [examples[i][j]]\n",
    "        \n",
    "    return labeled, unlabeled"
   ]
  },
  {
   "cell_type": "code",
   "execution_count": null,
   "metadata": {},
   "outputs": [],
   "source": [
    "import logging\n",
    "tf.get_logger().setLevel(logging.ERROR)"
   ]
  },
  {
   "cell_type": "code",
   "execution_count": null,
   "metadata": {
    "id": "vn-Pj6Zse0IK",
    "scrolled": true
   },
   "outputs": [],
   "source": [
    "#SEMI-SUPERVISED LEARNING\n",
    "\n",
    "val_indices = [(50000 + i) * rotations_num for i in range(10000)]\n",
    "x_val = tf.convert_to_tensor(np.take(combined_data, val_indices, axis = 0) / 256.)\n",
    "y_val = tf.convert_to_tensor(np.take(true_labels, val_indices, axis = 0))\n",
    "\n",
    "for p in labelsPercent:\n",
    "    @tf.function\n",
    "    def train_step(x, y):\n",
    "        with tf.GradientTape() as tape:\n",
    "            logits = model(x, training=True)\n",
    "            #loss_value = custom_loss(y, logits)\n",
    "            loss_value = loss(y, logits)\n",
    "    grads = tape.gradient(loss_value, model.trainable_weights)\n",
    "    optimizer.apply_gradients(zip(grads, model.trainable_weights))\n",
    "    train_acc_metric.update_state(y, logits)\n",
    "    return loss_value\n",
    "    \n",
    "    @tf.function\n",
    "    def val_step(x, y):\n",
    "        val_logits = model(x, training=False)\n",
    "        val_acc_metric.update_state(y, val_logits)\n",
    "    \n",
    "    print('%d%% of labeled data' % p)\n",
    "    model = get_cls_model(saved_name, False)\n",
    "    model.summary()\n",
    "    \n",
    "    labeled, unlabeled = generate_augmented_labeled_unlabeled(augmentedExamplesForClass, p, False)\n",
    "    \n",
    "    train_acc_metric = tf.keras.metrics.CategoricalAccuracy()\n",
    "    val_acc_metric = tf.keras.metrics.CategoricalAccuracy()\n",
    "    loss = tf.keras.losses.CategoricalCrossentropy()\n",
    "    optimizer = tf.keras.optimizers.Adam(lr=0.001)\n",
    "    \n",
    "    #Custom training loop\n",
    "    for epoch in range(semisupervised_epochs):\n",
    "        above_threshold_num = 0\n",
    "        start_time = time.time()\n",
    "        random.shuffle(labeled)\n",
    "        random.shuffle(unlabeled)\n",
    "        print(\"\\nEpoch \" + str(epoch) + \"/\" + str(semisupervised_epochs))\n",
    "        start_time = time.time()\n",
    "        \n",
    "        for step_num in range(augmented_data.shape[0] // semisupervised_batch_size):\n",
    "            print('Processing step %d/%d, train_acc = %.4f\\r' % (step_num, augmented_data.shape[0] // semisupervised_batch_size, float(train_acc_metric.result())), end=\"\")\n",
    "            labeled_batch_indices = labeled[step_num * semisupervised_batch_size * p // 100 : (step_num + 1) * semisupervised_batch_size * p // 100 ]\n",
    "            unlabeled_batch_indices = unlabeled[step_num * semisupervised_batch_size * (100 - p) // 100 : (step_num + 1) * semisupervised_batch_size * (100 - p) // 100 ]\n",
    "            loss_value_labeled = train_step(tf.convert_to_tensor(np.take(augmented_data, labeled_batch_indices, axis = 0) / 256.), \n",
    "                                            tf.convert_to_tensor(np.take(augmented_labels, labeled_batch_indices, axis = 0)))\n",
    "         \n",
    "            if epoch >= unlabeled_epoch_start:\n",
    "                x_batch_unlabeled = tf.convert_to_tensor(np.take(augmented_data, unlabeled_batch_indices, axis = 0) / 256.)\n",
    "                y_true_unlabeled = model(x_batch_unlabeled, training=False)\n",
    "                \n",
    "                #check threshold\n",
    "                indices_above_threshold = np.take(unlabeled_batch_indices, tf.where(tf.reduce_max(y_true_unlabeled, axis = 1) > unsupervised_threshold)).flatten()\n",
    "                loss_value_unlabeled = 0.0\n",
    "                if indices_above_threshold.shape[0] > 0:\n",
    "                    above_threshold_num += indices_above_threshold.shape[0]\n",
    "                    loss_value_unlabeled = train_step(tf.convert_to_tensor(np.take(pil_data, indices_above_threshold, axis = 0) / 256.), \n",
    "                                                      tf.cast(tf.convert_to_tensor(np.take(y_true_unlabeled.numpy(), tf.where(tf.reduce_max(y_true_unlabeled, axis = 1) > unsupervised_threshold).numpy().flatten(), axis = 0)) + 0.5, tf.int32))\n",
    "\n",
    "            \n",
    "            #print('Step ' + str(step) + ' Loss: ' + str(loss_value_labeled) + ' | ' + str(loss_value_unlabeled))\n",
    "            \n",
    "            #optimizer.lr.assign(lr_schedule_conv(optimizer.lr, epoch))\n",
    "              \n",
    "        print(\"\\nTraining acc over epoch: %.4f\" % (float(train_acc_metric.result()),))\n",
    "        \n",
    "        val_step(x_val, y_val)\n",
    "        print(\"Val acc over epoch: %.4f\" % (float(val_acc_metric.result()),))\n",
    "\n",
    "        train_acc_metric.reset_states()\n",
    "        val_acc_metric.reset_states()\n",
    "        \n",
    "        print(\"%d/%d unlabeled samples are used\" % (above_threshold_num, len(unlabeled)))\n",
    "        print(\"%s seconds for epoch\" % (time.time() - start_time))"
   ]
  },
  {
   "cell_type": "code",
   "execution_count": null,
   "metadata": {
    "scrolled": true
   },
   "outputs": [],
   "source": [
    "#FINE-TUNING AFTER SELF-SUPERVISED\n",
    "\n",
    "val_indices = [(50000 + i) * rotations_num for i in range(10000)]\n",
    "x_val = tf.convert_to_tensor(np.take(combined_data, val_indices, axis = 0) / 256.)\n",
    "y_val = tf.convert_to_tensor(np.take(true_labels, val_indices, axis = 0))\n",
    "\n",
    "for p in [3, 25, 50]:\n",
    "    @tf.function\n",
    "    def train_step(x, y):\n",
    "        with tf.GradientTape() as tape:\n",
    "            logits = model(x, training=True)\n",
    "            #loss_value = custom_loss(y, logits)\n",
    "            loss_value = loss(y, logits)\n",
    "        grads = tape.gradient(loss_value, model.trainable_weights)\n",
    "        optimizer.apply_gradients(zip(grads, model.trainable_weights))\n",
    "        train_acc_metric.update_state(y, logits)\n",
    "        return loss_value\n",
    "    \n",
    "    @tf.function\n",
    "    def val_step(x, y):\n",
    "        val_logits = model(x, training=False)\n",
    "        val_acc_metric.update_state(y, val_logits)\n",
    "\n",
    "    print('%d%% of labeled data' % p)\n",
    "    model = get_cls_model(saved_name, True)\n",
    "    model.summary()\n",
    "    \n",
    "    labeled, unlabeled = generate_augmented_labeled_unlabeled(augmentedExamplesForClass, p, False)\n",
    "    \n",
    "    train_acc_metric = tf.keras.metrics.CategoricalAccuracy()\n",
    "    val_acc_metric = tf.keras.metrics.CategoricalAccuracy()\n",
    "    loss = tf.keras.losses.CategoricalCrossentropy()\n",
    "    optimizer = tf.keras.optimizers.Adam()\n",
    "    \n",
    "    #Custom training loop\n",
    "    for epoch in range(semisupervised_epochs):\n",
    "        above_threshold_num = 0\n",
    "        start_time = time.time()\n",
    "        random.shuffle(labeled)\n",
    "        print(\"\\nEpoch \" + str(epoch) + \"/\" + str(semisupervised_epochs))\n",
    "        start_time = time.time()\n",
    "        \n",
    "        for step_num in range(len(labeled) // semisupervised_batch_size):\n",
    "            print('Processing step %d/%d, train_acc = %.4f\\r' % (step_num, augmented_data.shape[0] // semisupervised_batch_size, float(train_acc_metric.result())), end=\"\")\n",
    "            labeled_batch_indices = labeled[step_num * semisupervised_batch_size: (step_num + 1) * semisupervised_batch_size]\n",
    "            loss_value_labeled = train_step(tf.convert_to_tensor(np.take(augmented_data, labeled_batch_indices, axis = 0) / 256.), \n",
    "                                            tf.convert_to_tensor(np.take(augmented_labels, labeled_batch_indices, axis = 0)))\n",
    "         \n",
    "           \n",
    "            #print('Step ' + str(step) + ' Loss: ' + str(loss_value_labeled) + ' | ' + str(loss_value_unlabeled))\n",
    "            \n",
    "        #optimizer.lr.assign(lr_schedule_cls(optimizer.lr, epoch))\n",
    "              \n",
    "        print(\"\\nTraining acc over epoch: %.4f\" % (float(train_acc_metric.result()),))\n",
    "        \n",
    "        val_step(x_val, y_val)\n",
    "        print(\"Val acc over epoch: %.4f\" % (float(val_acc_metric.result()),))\n",
    "\n",
    "        train_acc_metric.reset_states()\n",
    "        val_acc_metric.reset_states()\n",
    "        \n",
    "        print(\"%d/%d unlabeled samples are used\" % (above_threshold_num, len(unlabeled)))\n",
    "        print(\"%s seconds for epoch\" % (time.time() - start_time))"
   ]
  },
  {
   "cell_type": "code",
   "execution_count": null,
   "metadata": {},
   "outputs": [],
   "source": []
  },
  {
   "cell_type": "code",
   "execution_count": null,
   "metadata": {},
   "outputs": [],
   "source": []
  },
  {
   "cell_type": "code",
   "execution_count": null,
   "metadata": {},
   "outputs": [],
   "source": []
  },
  {
   "cell_type": "code",
   "execution_count": null,
   "metadata": {},
   "outputs": [],
   "source": []
  }
 ],
 "metadata": {
  "accelerator": "GPU",
  "colab": {
   "collapsed_sections": [],
   "name": "SelfSupervision.ipynb",
   "provenance": []
  },
  "kernelspec": {
   "display_name": "Python 3",
   "language": "python",
   "name": "python3"
  },
  "language_info": {
   "codemirror_mode": {
    "name": "ipython",
    "version": 3
   },
   "file_extension": ".py",
   "mimetype": "text/x-python",
   "name": "python",
   "nbconvert_exporter": "python",
   "pygments_lexer": "ipython3",
   "version": "3.6.12"
  }
 },
 "nbformat": 4,
 "nbformat_minor": 1
}
